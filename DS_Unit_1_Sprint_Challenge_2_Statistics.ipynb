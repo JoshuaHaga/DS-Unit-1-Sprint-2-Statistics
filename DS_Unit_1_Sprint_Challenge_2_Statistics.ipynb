{
  "nbformat": 4,
  "nbformat_minor": 0,
  "metadata": {
    "colab": {
      "name": "DS_Unit_1_Sprint_Challenge_2_Statistics.ipynb",
      "provenance": [],
      "collapsed_sections": [],
      "include_colab_link": true
    },
    "kernelspec": {
      "name": "python3",
      "display_name": "Python 3"
    }
  },
  "cells": [
    {
      "cell_type": "markdown",
      "metadata": {
        "id": "view-in-github",
        "colab_type": "text"
      },
      "source": [
        "<a href=\"https://colab.research.google.com/github/JoshuaHaga/DS-Unit-1-Sprint-2-Statistics/blob/master/DS_Unit_1_Sprint_Challenge_2_Statistics.ipynb\" target=\"_parent\"><img src=\"https://colab.research.google.com/assets/colab-badge.svg\" alt=\"Open In Colab\"/></a>"
      ]
    },
    {
      "cell_type": "markdown",
      "metadata": {
        "id": "NooAiTdnafkz",
        "colab_type": "text"
      },
      "source": [
        "# Data Science Unit 1 Sprint Challenge 2\n",
        "\n",
        "## Exploring Data, Testing Hypotheses\n",
        "\n",
        "In this sprint challenge you will look at a dataset of Echocardiograms\n",
        "\n",
        "<https://archive.ics.uci.edu/ml/datasets/Echocardiogram>\n",
        "\n",
        "Attribute Information:\n",
        "\n",
        "1. survival -- the number of months patient survived (has survived, if patient is still alive). Because all the patients had their heart attacks at different times, it is possible that some patients have survived less than one year but they are still alive. Check the second variable to confirm this. Such patients cannot be used for the prediction task mentioned above.\n",
        "2. still-alive -- a binary variable. 0=dead at end of survival period, 1 means still alive\n",
        "3. age-at-heart-attack -- age in years when heart attack occurred\n",
        "4. pericardial-effusion -- binary. Pericardial effusion is fluid around the heart. 0=no fluid, 1=fluid\n",
        "5. fractional-shortening -- a measure of contracility around the heart lower numbers are increasingly abnormal\n",
        "6. epss -- E-point septal separation, another measure of contractility. Larger numbers are increasingly abnormal.\n",
        "7. lvdd -- left ventricular end-diastolic dimension. This is a measure of the size of the heart at end-diastole. Large hearts tend to be sick hearts.\n",
        "8. wall-motion-score -- a measure of how the segments of the left ventricle are moving\n",
        "9. wall-motion-index -- equals wall-motion-score divided by number of segments seen. Usually 12-13 segments are seen in an echocardiogram. Use this variable INSTEAD of the wall motion score.\n",
        "10. mult -- a derivate var which can be ignored\n",
        "11. name -- the name of the patient (I have replaced them with \"name\")\n",
        "12. group -- meaningless, ignore it\n",
        "13. alive-at-1 -- Boolean-valued. Derived from the first two attributes. 0 means patient was either dead after 1 year or had been followed for less than 1 year. 1 means patient was alive at 1 year.\n",
        "\n",
        "Sprint challenges are evaluated based on satisfactory completion of each part. It is suggested you work through it in order, getting each aspect reasonably working, before trying to deeply explore, iterate, or refine any given step. Once you get to the end, if you want to go back and improve things, go for it!"
      ]
    },
    {
      "cell_type": "markdown",
      "metadata": {
        "id": "5wch6ksCbJtZ",
        "colab_type": "text"
      },
      "source": [
        "## Part 1 - Load and validate the data\n",
        "\n",
        "- Load the data as a `pandas` data frame.\n",
        "- Validate that it has the appropriate number of observations (you can check the raw file, and also read the dataset description from UCI).\n",
        "- UCI says there should be missing data - check, and if necessary change the data so pandas recognizes it as na\n",
        "- Make sure that the loaded features are of the types described above (continuous values should be treated as float), and correct as necessary\n",
        "\n",
        "This is review, but skills that you'll use at the start of any data exploration. Further, you may have to do some investigation to figure out which file to load from - that is part of the puzzle."
      ]
    },
    {
      "cell_type": "code",
      "metadata": {
        "id": "L0rvj9mwjBg2",
        "colab_type": "code",
        "colab": {}
      },
      "source": [
        "\n",
        "from scipy.stats import ttest_ind, ttest_1samp\n",
        "import numpy as np\n",
        "import pandas as pd\n",
        "import matplotlib.pyplot as plt\n",
        "plt.style.use('seaborn-whitegrid')\n",
        "import scipy.stats as stats\n"
      ],
      "execution_count": 2,
      "outputs": []
    },
    {
      "cell_type": "code",
      "metadata": {
        "id": "GHaInxVnktel",
        "colab_type": "code",
        "colab": {}
      },
      "source": [
        "headers = ['survival', 'still-alive', 'age-at-heart-attack','pericardial-effusion',' fractional-shortening','epss','lvdd',\n",
        "           'wall-motion-score','all-motion-index','mult','name','group','alive-at-1']"
      ],
      "execution_count": 3,
      "outputs": []
    },
    {
      "cell_type": "code",
      "metadata": {
        "id": "Q79xDLckzibS",
        "colab_type": "code",
        "colab": {
          "base_uri": "https://localhost:8080/",
          "height": 204
        },
        "outputId": "8f8efe7f-1560-42ab-f763-467075f1054c"
      },
      "source": [
        "df = pd.read_csv('https://archive.ics.uci.edu/ml/machine-learning-databases/echocardiogram/echocardiogram.data',names=headers,error_bad_lines=False,sep=',', na_values='?')\n",
        "df.head()"
      ],
      "execution_count": 4,
      "outputs": [
        {
          "output_type": "execute_result",
          "data": {
            "text/html": [
              "<div>\n",
              "<style scoped>\n",
              "    .dataframe tbody tr th:only-of-type {\n",
              "        vertical-align: middle;\n",
              "    }\n",
              "\n",
              "    .dataframe tbody tr th {\n",
              "        vertical-align: top;\n",
              "    }\n",
              "\n",
              "    .dataframe thead th {\n",
              "        text-align: right;\n",
              "    }\n",
              "</style>\n",
              "<table border=\"1\" class=\"dataframe\">\n",
              "  <thead>\n",
              "    <tr style=\"text-align: right;\">\n",
              "      <th></th>\n",
              "      <th>survival</th>\n",
              "      <th>still-alive</th>\n",
              "      <th>age-at-heart-attack</th>\n",
              "      <th>pericardial-effusion</th>\n",
              "      <th>fractional-shortening</th>\n",
              "      <th>epss</th>\n",
              "      <th>lvdd</th>\n",
              "      <th>wall-motion-score</th>\n",
              "      <th>all-motion-index</th>\n",
              "      <th>mult</th>\n",
              "      <th>name</th>\n",
              "      <th>group</th>\n",
              "      <th>alive-at-1</th>\n",
              "    </tr>\n",
              "  </thead>\n",
              "  <tbody>\n",
              "    <tr>\n",
              "      <th>0</th>\n",
              "      <td>11.0</td>\n",
              "      <td>0.0</td>\n",
              "      <td>71.0</td>\n",
              "      <td>0</td>\n",
              "      <td>0.260</td>\n",
              "      <td>9.000</td>\n",
              "      <td>4.600</td>\n",
              "      <td>14.0</td>\n",
              "      <td>1.00</td>\n",
              "      <td>1.000</td>\n",
              "      <td>name</td>\n",
              "      <td>1</td>\n",
              "      <td>0.0</td>\n",
              "    </tr>\n",
              "    <tr>\n",
              "      <th>1</th>\n",
              "      <td>19.0</td>\n",
              "      <td>0.0</td>\n",
              "      <td>72.0</td>\n",
              "      <td>0</td>\n",
              "      <td>0.380</td>\n",
              "      <td>6.000</td>\n",
              "      <td>4.100</td>\n",
              "      <td>14.0</td>\n",
              "      <td>1.70</td>\n",
              "      <td>0.588</td>\n",
              "      <td>name</td>\n",
              "      <td>1</td>\n",
              "      <td>0.0</td>\n",
              "    </tr>\n",
              "    <tr>\n",
              "      <th>2</th>\n",
              "      <td>16.0</td>\n",
              "      <td>0.0</td>\n",
              "      <td>55.0</td>\n",
              "      <td>0</td>\n",
              "      <td>0.260</td>\n",
              "      <td>4.000</td>\n",
              "      <td>3.420</td>\n",
              "      <td>14.0</td>\n",
              "      <td>1.00</td>\n",
              "      <td>1.000</td>\n",
              "      <td>name</td>\n",
              "      <td>1</td>\n",
              "      <td>0.0</td>\n",
              "    </tr>\n",
              "    <tr>\n",
              "      <th>3</th>\n",
              "      <td>57.0</td>\n",
              "      <td>0.0</td>\n",
              "      <td>60.0</td>\n",
              "      <td>0</td>\n",
              "      <td>0.253</td>\n",
              "      <td>12.062</td>\n",
              "      <td>4.603</td>\n",
              "      <td>16.0</td>\n",
              "      <td>1.45</td>\n",
              "      <td>0.788</td>\n",
              "      <td>name</td>\n",
              "      <td>1</td>\n",
              "      <td>0.0</td>\n",
              "    </tr>\n",
              "    <tr>\n",
              "      <th>4</th>\n",
              "      <td>19.0</td>\n",
              "      <td>1.0</td>\n",
              "      <td>57.0</td>\n",
              "      <td>0</td>\n",
              "      <td>0.160</td>\n",
              "      <td>22.000</td>\n",
              "      <td>5.750</td>\n",
              "      <td>18.0</td>\n",
              "      <td>2.25</td>\n",
              "      <td>0.571</td>\n",
              "      <td>name</td>\n",
              "      <td>1</td>\n",
              "      <td>0.0</td>\n",
              "    </tr>\n",
              "  </tbody>\n",
              "</table>\n",
              "</div>"
            ],
            "text/plain": [
              "   survival  still-alive  age-at-heart-attack  ...  name  group  alive-at-1\n",
              "0      11.0          0.0                 71.0  ...  name      1         0.0\n",
              "1      19.0          0.0                 72.0  ...  name      1         0.0\n",
              "2      16.0          0.0                 55.0  ...  name      1         0.0\n",
              "3      57.0          0.0                 60.0  ...  name      1         0.0\n",
              "4      19.0          1.0                 57.0  ...  name      1         0.0\n",
              "\n",
              "[5 rows x 13 columns]"
            ]
          },
          "metadata": {
            "tags": []
          },
          "execution_count": 4
        }
      ]
    },
    {
      "cell_type": "code",
      "metadata": {
        "id": "4BD8Iw9pmDka",
        "colab_type": "code",
        "colab": {
          "base_uri": "https://localhost:8080/",
          "height": 255
        },
        "outputId": "ee33d707-9370-411e-d8b4-59afbe175bc3"
      },
      "source": [
        "df.isnull().sum()"
      ],
      "execution_count": 135,
      "outputs": [
        {
          "output_type": "execute_result",
          "data": {
            "text/plain": [
              "survival                   2\n",
              "still-alive                1\n",
              "age-at-heart-attack        6\n",
              "pericardial-effusion       0\n",
              " fractional-shortening     8\n",
              "epss                      15\n",
              "lvdd                      11\n",
              "wall-motion-score          4\n",
              "all-motion-index           2\n",
              "mult                       3\n",
              "name                       1\n",
              "group                     22\n",
              "alive-at-1                57\n",
              "dtype: int64"
            ]
          },
          "metadata": {
            "tags": []
          },
          "execution_count": 135
        }
      ]
    },
    {
      "cell_type": "markdown",
      "metadata": {
        "id": "G7rLytbrO38L",
        "colab_type": "text"
      },
      "source": [
        "## Part 2 - Exploring data, Testing hypotheses\n",
        "\n",
        "The only thing we really know about this data is that Alive-at-1 is the class label. Besides that, we have continuous features and categorical features.\n",
        "\n",
        "Explore the data: you can use whatever approach (tables, utility functions, visualizations) to get an impression of the distributions and relationships of the variables. In general, your goal is to understand how the features are different when grouped by the two class labels (`1` and `0`).\n",
        "\n",
        "For the continuous features, how are they different when split between the two class labels? Choose two features to run t-tests (again split by class label) - specifically, select one feature that is *extremely* different between the classes, and another feature that is notably less different (though perhaps still \"statistically significantly\" different). You may have to explore more than two features to do this.\n",
        "\n",
        "For the categorical features, explore by creating \"cross tabs\" (aka [contingency tables](https://en.wikipedia.org/wiki/Contingency_table)) between them and the class label, and apply the Chi-squared test to them. [pandas.crosstab](http://pandas.pydata.org/pandas-docs/stable/reference/api/pandas.crosstab.html) can create contingency tables, and [scipy.stats.chi2_contingency](https://docs.scipy.org/doc/scipy/reference/generated/scipy.stats.chi2_contingency.html) can calculate the Chi-squared statistic for them.\n",
        "\n",
        "There are also categorical features - as with the t-test, try to find one where the Chi-squared test returns an extreme result (rejecting the null that the data are independent), and one where it is less extreme.\n",
        "\n",
        "**NOTE** - \"less extreme\" just means smaller test statistic/larger p-value. Even the least extreme differences may be strongly statistically significant.\n",
        "\n",
        "Your *main* goal is the hypothesis tests, so don't spend too much time on the exploration/visualization piece. That is just a means to an end - use simple visualizations, such as boxplots or a scatter matrix (both built in to pandas), to get a feel for the overall distribution of the variables.\n",
        "\n",
        "This is challenging, so manage your time and aim for a baseline of at least running two t-tests and two Chi-squared tests before polishing. And don't forget to answer the questions in part 3, even if your results in this part aren't what you want them to be."
      ]
    },
    {
      "cell_type": "code",
      "metadata": {
        "id": "_nqcgc0yzm68",
        "colab_type": "code",
        "colab": {}
      },
      "source": [
        "# TODO\n",
        "df_alive= df[df['still-alive']==1]\n",
        "df_dead = df[df['still-alive']==0]"
      ],
      "execution_count": 22,
      "outputs": []
    },
    {
      "cell_type": "code",
      "metadata": {
        "id": "6EyR3j0Atabu",
        "colab_type": "code",
        "colab": {
          "base_uri": "https://localhost:8080/",
          "height": 204
        },
        "outputId": "eacf2eb3-ecf3-4a30-c2c5-3c93e9d79e00"
      },
      "source": [
        "df_dead.head(5)"
      ],
      "execution_count": 23,
      "outputs": [
        {
          "output_type": "execute_result",
          "data": {
            "text/html": [
              "<div>\n",
              "<style scoped>\n",
              "    .dataframe tbody tr th:only-of-type {\n",
              "        vertical-align: middle;\n",
              "    }\n",
              "\n",
              "    .dataframe tbody tr th {\n",
              "        vertical-align: top;\n",
              "    }\n",
              "\n",
              "    .dataframe thead th {\n",
              "        text-align: right;\n",
              "    }\n",
              "</style>\n",
              "<table border=\"1\" class=\"dataframe\">\n",
              "  <thead>\n",
              "    <tr style=\"text-align: right;\">\n",
              "      <th></th>\n",
              "      <th>survival</th>\n",
              "      <th>still-alive</th>\n",
              "      <th>age-at-heart-attack</th>\n",
              "      <th>pericardial-effusion</th>\n",
              "      <th>fractional-shortening</th>\n",
              "      <th>epss</th>\n",
              "      <th>lvdd</th>\n",
              "      <th>wall-motion-score</th>\n",
              "      <th>all-motion-index</th>\n",
              "      <th>mult</th>\n",
              "      <th>name</th>\n",
              "      <th>group</th>\n",
              "      <th>alive-at-1</th>\n",
              "    </tr>\n",
              "  </thead>\n",
              "  <tbody>\n",
              "    <tr>\n",
              "      <th>0</th>\n",
              "      <td>11.0</td>\n",
              "      <td>0.0</td>\n",
              "      <td>71.0</td>\n",
              "      <td>0</td>\n",
              "      <td>0.260</td>\n",
              "      <td>9.000</td>\n",
              "      <td>4.600</td>\n",
              "      <td>14.0</td>\n",
              "      <td>1.00</td>\n",
              "      <td>1.000</td>\n",
              "      <td>name</td>\n",
              "      <td>1</td>\n",
              "      <td>0.0</td>\n",
              "    </tr>\n",
              "    <tr>\n",
              "      <th>1</th>\n",
              "      <td>19.0</td>\n",
              "      <td>0.0</td>\n",
              "      <td>72.0</td>\n",
              "      <td>0</td>\n",
              "      <td>0.380</td>\n",
              "      <td>6.000</td>\n",
              "      <td>4.100</td>\n",
              "      <td>14.0</td>\n",
              "      <td>1.70</td>\n",
              "      <td>0.588</td>\n",
              "      <td>name</td>\n",
              "      <td>1</td>\n",
              "      <td>0.0</td>\n",
              "    </tr>\n",
              "    <tr>\n",
              "      <th>2</th>\n",
              "      <td>16.0</td>\n",
              "      <td>0.0</td>\n",
              "      <td>55.0</td>\n",
              "      <td>0</td>\n",
              "      <td>0.260</td>\n",
              "      <td>4.000</td>\n",
              "      <td>3.420</td>\n",
              "      <td>14.0</td>\n",
              "      <td>1.00</td>\n",
              "      <td>1.000</td>\n",
              "      <td>name</td>\n",
              "      <td>1</td>\n",
              "      <td>0.0</td>\n",
              "    </tr>\n",
              "    <tr>\n",
              "      <th>3</th>\n",
              "      <td>57.0</td>\n",
              "      <td>0.0</td>\n",
              "      <td>60.0</td>\n",
              "      <td>0</td>\n",
              "      <td>0.253</td>\n",
              "      <td>12.062</td>\n",
              "      <td>4.603</td>\n",
              "      <td>16.0</td>\n",
              "      <td>1.45</td>\n",
              "      <td>0.788</td>\n",
              "      <td>name</td>\n",
              "      <td>1</td>\n",
              "      <td>0.0</td>\n",
              "    </tr>\n",
              "    <tr>\n",
              "      <th>5</th>\n",
              "      <td>26.0</td>\n",
              "      <td>0.0</td>\n",
              "      <td>68.0</td>\n",
              "      <td>0</td>\n",
              "      <td>0.260</td>\n",
              "      <td>5.000</td>\n",
              "      <td>4.310</td>\n",
              "      <td>12.0</td>\n",
              "      <td>1.00</td>\n",
              "      <td>0.857</td>\n",
              "      <td>name</td>\n",
              "      <td>1</td>\n",
              "      <td>0.0</td>\n",
              "    </tr>\n",
              "  </tbody>\n",
              "</table>\n",
              "</div>"
            ],
            "text/plain": [
              "   survival  still-alive  age-at-heart-attack  ...  name  group  alive-at-1\n",
              "0      11.0          0.0                 71.0  ...  name      1         0.0\n",
              "1      19.0          0.0                 72.0  ...  name      1         0.0\n",
              "2      16.0          0.0                 55.0  ...  name      1         0.0\n",
              "3      57.0          0.0                 60.0  ...  name      1         0.0\n",
              "5      26.0          0.0                 68.0  ...  name      1         0.0\n",
              "\n",
              "[5 rows x 13 columns]"
            ]
          },
          "metadata": {
            "tags": []
          },
          "execution_count": 23
        }
      ]
    },
    {
      "cell_type": "code",
      "metadata": {
        "id": "QDCx20nht6AS",
        "colab_type": "code",
        "colab": {
          "base_uri": "https://localhost:8080/",
          "height": 204
        },
        "outputId": "f7ca871f-249a-49ac-9f21-9dd68127fc36"
      },
      "source": [
        "df_alive.head(5)"
      ],
      "execution_count": 24,
      "outputs": [
        {
          "output_type": "execute_result",
          "data": {
            "text/html": [
              "<div>\n",
              "<style scoped>\n",
              "    .dataframe tbody tr th:only-of-type {\n",
              "        vertical-align: middle;\n",
              "    }\n",
              "\n",
              "    .dataframe tbody tr th {\n",
              "        vertical-align: top;\n",
              "    }\n",
              "\n",
              "    .dataframe thead th {\n",
              "        text-align: right;\n",
              "    }\n",
              "</style>\n",
              "<table border=\"1\" class=\"dataframe\">\n",
              "  <thead>\n",
              "    <tr style=\"text-align: right;\">\n",
              "      <th></th>\n",
              "      <th>survival</th>\n",
              "      <th>still-alive</th>\n",
              "      <th>age-at-heart-attack</th>\n",
              "      <th>pericardial-effusion</th>\n",
              "      <th>fractional-shortening</th>\n",
              "      <th>epss</th>\n",
              "      <th>lvdd</th>\n",
              "      <th>wall-motion-score</th>\n",
              "      <th>all-motion-index</th>\n",
              "      <th>mult</th>\n",
              "      <th>name</th>\n",
              "      <th>group</th>\n",
              "      <th>alive-at-1</th>\n",
              "    </tr>\n",
              "  </thead>\n",
              "  <tbody>\n",
              "    <tr>\n",
              "      <th>4</th>\n",
              "      <td>19.0</td>\n",
              "      <td>1.0</td>\n",
              "      <td>57.000</td>\n",
              "      <td>0</td>\n",
              "      <td>0.16</td>\n",
              "      <td>22.0</td>\n",
              "      <td>5.75</td>\n",
              "      <td>18.00</td>\n",
              "      <td>2.25</td>\n",
              "      <td>0.571</td>\n",
              "      <td>name</td>\n",
              "      <td>1</td>\n",
              "      <td>0.0</td>\n",
              "    </tr>\n",
              "    <tr>\n",
              "      <th>10</th>\n",
              "      <td>10.0</td>\n",
              "      <td>1.0</td>\n",
              "      <td>77.000</td>\n",
              "      <td>0</td>\n",
              "      <td>0.13</td>\n",
              "      <td>16.0</td>\n",
              "      <td>4.23</td>\n",
              "      <td>18.00</td>\n",
              "      <td>1.80</td>\n",
              "      <td>0.714</td>\n",
              "      <td>name</td>\n",
              "      <td>1</td>\n",
              "      <td>1.0</td>\n",
              "    </tr>\n",
              "    <tr>\n",
              "      <th>14</th>\n",
              "      <td>0.5</td>\n",
              "      <td>1.0</td>\n",
              "      <td>62.000</td>\n",
              "      <td>0</td>\n",
              "      <td>0.12</td>\n",
              "      <td>23.0</td>\n",
              "      <td>5.80</td>\n",
              "      <td>11.67</td>\n",
              "      <td>2.33</td>\n",
              "      <td>0.358</td>\n",
              "      <td>name</td>\n",
              "      <td>1</td>\n",
              "      <td>1.0</td>\n",
              "    </tr>\n",
              "    <tr>\n",
              "      <th>16</th>\n",
              "      <td>0.5</td>\n",
              "      <td>1.0</td>\n",
              "      <td>69.000</td>\n",
              "      <td>1</td>\n",
              "      <td>0.26</td>\n",
              "      <td>11.0</td>\n",
              "      <td>4.65</td>\n",
              "      <td>18.00</td>\n",
              "      <td>1.64</td>\n",
              "      <td>0.784</td>\n",
              "      <td>name</td>\n",
              "      <td>1</td>\n",
              "      <td>1.0</td>\n",
              "    </tr>\n",
              "    <tr>\n",
              "      <th>17</th>\n",
              "      <td>0.5</td>\n",
              "      <td>1.0</td>\n",
              "      <td>62.529</td>\n",
              "      <td>1</td>\n",
              "      <td>0.07</td>\n",
              "      <td>20.0</td>\n",
              "      <td>5.20</td>\n",
              "      <td>24.00</td>\n",
              "      <td>2.00</td>\n",
              "      <td>0.857</td>\n",
              "      <td>name</td>\n",
              "      <td>1</td>\n",
              "      <td>1.0</td>\n",
              "    </tr>\n",
              "  </tbody>\n",
              "</table>\n",
              "</div>"
            ],
            "text/plain": [
              "    survival  still-alive  age-at-heart-attack  ...  name  group  alive-at-1\n",
              "4       19.0          1.0               57.000  ...  name      1         0.0\n",
              "10      10.0          1.0               77.000  ...  name      1         1.0\n",
              "14       0.5          1.0               62.000  ...  name      1         1.0\n",
              "16       0.5          1.0               69.000  ...  name      1         1.0\n",
              "17       0.5          1.0               62.529  ...  name      1         1.0\n",
              "\n",
              "[5 rows x 13 columns]"
            ]
          },
          "metadata": {
            "tags": []
          },
          "execution_count": 24
        }
      ]
    },
    {
      "cell_type": "code",
      "metadata": {
        "id": "-CNoaZYlwlHL",
        "colab_type": "code",
        "colab": {
          "base_uri": "https://localhost:8080/",
          "height": 34
        },
        "outputId": "e2180538-30c2-4ff0-8a76-5cef9f39f814"
      },
      "source": [
        "pop_mean = df['age-at-heart-attack'].mean()\n",
        "pop_mean"
      ],
      "execution_count": 68,
      "outputs": [
        {
          "output_type": "execute_result",
          "data": {
            "text/plain": [
              "62.813722222222225"
            ]
          },
          "metadata": {
            "tags": []
          },
          "execution_count": 68
        }
      ]
    },
    {
      "cell_type": "code",
      "metadata": {
        "id": "kW0aCuwjxc3d",
        "colab_type": "code",
        "colab": {
          "base_uri": "https://localhost:8080/",
          "height": 34
        },
        "outputId": "4f629ce0-ea67-4319-9b9b-c122e12c273b"
      },
      "source": [
        "alive_mean = df_alive['age-at-heart-attack'].mean()\n",
        "alive_mean"
      ],
      "execution_count": 67,
      "outputs": [
        {
          "output_type": "execute_result",
          "data": {
            "text/plain": [
              "66.35436585365854"
            ]
          },
          "metadata": {
            "tags": []
          },
          "execution_count": 67
        }
      ]
    },
    {
      "cell_type": "code",
      "metadata": {
        "id": "0Rfi5GSc4uqi",
        "colab_type": "code",
        "colab": {
          "base_uri": "https://localhost:8080/",
          "height": 34
        },
        "outputId": "ded1fcdd-bb45-4682-860b-0211f1c6bcbd"
      },
      "source": [
        "dead_mean= df_dead['age-at-heart-attack'].mean()\n",
        "dead_mean"
      ],
      "execution_count": 66,
      "outputs": [
        {
          "output_type": "execute_result",
          "data": {
            "text/plain": [
              "61.10588235294118"
            ]
          },
          "metadata": {
            "tags": []
          },
          "execution_count": 66
        }
      ]
    },
    {
      "cell_type": "code",
      "metadata": {
        "id": "QUf8-Ryc6GtL",
        "colab_type": "code",
        "colab": {}
      },
      "source": [
        "#is there a statistical difference of age-at-heart-attack between those who survived and those who did not? \n",
        "#null hypothesis - the ages of survivors is the same as those who did not\n",
        "\n",
        "t_deadalive = ttest_ind(df_alive['age-at-heart-attack'],df_dead['age-at-heart-attack'], nan_policy='omit' )"
      ],
      "execution_count": 71,
      "outputs": []
    },
    {
      "cell_type": "code",
      "metadata": {
        "id": "E1aqyohJ9Zci",
        "colab_type": "code",
        "colab": {
          "base_uri": "https://localhost:8080/",
          "height": 34
        },
        "outputId": "38bb986d-4d8a-4713-dea3-c0ed2f38f4a1"
      },
      "source": [
        "t_deadalive"
      ],
      "execution_count": 32,
      "outputs": [
        {
          "output_type": "execute_result",
          "data": {
            "text/plain": [
              "Ttest_indResult(statistic=3.450119009637339, pvalue=0.0007664683428197815)"
            ]
          },
          "metadata": {
            "tags": []
          },
          "execution_count": 32
        }
      ]
    },
    {
      "cell_type": "code",
      "metadata": {
        "id": "-CGDfwrJAVdU",
        "colab_type": "code",
        "colab": {
          "base_uri": "https://localhost:8080/",
          "height": 34
        },
        "outputId": "8482f894-6c21-4910-f40f-ed65f0c10bee"
      },
      "source": [
        "#the age at heart attack is higher in those that survived one year\n",
        "ttest_ind(df_alive['age-at-heart-attack'],df['age-at-heart-attack'], nan_policy='omit' )"
      ],
      "execution_count": 70,
      "outputs": [
        {
          "output_type": "execute_result",
          "data": {
            "text/plain": [
              "Ttest_indResult(statistic=2.3666761195740533, pvalue=0.019108432948976718)"
            ]
          },
          "metadata": {
            "tags": []
          },
          "execution_count": 70
        }
      ]
    },
    {
      "cell_type": "code",
      "metadata": {
        "id": "h3JihkttIKok",
        "colab_type": "code",
        "colab": {
          "base_uri": "https://localhost:8080/",
          "height": 68
        },
        "outputId": "62c95c17-c735-4a24-a932-ecd167d31588"
      },
      "source": [
        "print('Alive:', df_alive['pericardial-effusion'].mean())\n",
        "print('Dead:',df_dead['pericardial-effusion'].mean())\n",
        "print('All', df['pericardial-effusion'].mean())"
      ],
      "execution_count": 151,
      "outputs": [
        {
          "output_type": "stream",
          "text": [
            "Alive: 0.27906976744186046\n",
            "Dead: 0.13636363636363635\n",
            "All 0.7651515151515151\n"
          ],
          "name": "stdout"
        }
      ]
    },
    {
      "cell_type": "code",
      "metadata": {
        "id": "Qxqq-orHas0l",
        "colab_type": "code",
        "colab": {
          "base_uri": "https://localhost:8080/",
          "height": 280
        },
        "outputId": "d5ad3995-fad0-4a46-efa5-8aa440ab3fa2"
      },
      "source": [
        "df_alive['pericardial-effusion'].value_counts().plot(kind='bar')\n",
        "df_dead['pericardial-effusion'].value_counts().plot(kind='bar', color='b', alpha=0.2)\n",
        "df['pericardial-effusion'].value_counts().plot(kind='bar', color='R', alpha=0.3)\n",
        "\n"
      ],
      "execution_count": 136,
      "outputs": [
        {
          "output_type": "execute_result",
          "data": {
            "text/plain": [
              "<matplotlib.axes._subplots.AxesSubplot at 0x7f160b37d1d0>"
            ]
          },
          "metadata": {
            "tags": []
          },
          "execution_count": 136
        },
        {
          "output_type": "display_data",
          "data": {
            "image/png": "[encoded data removed]",
            "text/plain": [
              "<Figure size 432x288 with 1 Axes>"
            ]
          },
          "metadata": {
            "tags": []
          }
        }
      ]
    },
    {
      "cell_type": "code",
      "metadata": {
        "colab_type": "code",
        "id": "fvUG35r_atQL",
        "colab": {}
      },
      "source": [
        ""
      ],
      "execution_count": 132,
      "outputs": []
    },
    {
      "cell_type": "code",
      "metadata": {
        "id": "adCtjc87IwjC",
        "colab_type": "code",
        "colab": {
          "base_uri": "https://localhost:8080/",
          "height": 452
        },
        "outputId": "5e4f57e0-3108-4c2e-ad2a-3386d3665605"
      },
      "source": [
        "#check out some other variables \n",
        "df['age_simp'] = pd.cut(df['age-at-heart-attack'], bins=4,  labels=[1,2,3,4])\n",
        "df['surv_simp'] = pd.cut(df['survival'], bins=12, labels=['1','2','3','4','5','6','7','8',9,10,11,12])\n",
        "age_surv = pd.crosstab(df['surv_simp'], df['age_simp'])\n",
        "age_surv\n"
      ],
      "execution_count": 182,
      "outputs": [
        {
          "output_type": "execute_result",
          "data": {
            "text/html": [
              "<div>\n",
              "<style scoped>\n",
              "    .dataframe tbody tr th:only-of-type {\n",
              "        vertical-align: middle;\n",
              "    }\n",
              "\n",
              "    .dataframe tbody tr th {\n",
              "        vertical-align: top;\n",
              "    }\n",
              "\n",
              "    .dataframe thead th {\n",
              "        text-align: right;\n",
              "    }\n",
              "</style>\n",
              "<table border=\"1\" class=\"dataframe\">\n",
              "  <thead>\n",
              "    <tr style=\"text-align: right;\">\n",
              "      <th>age_simp</th>\n",
              "      <th>1</th>\n",
              "      <th>2</th>\n",
              "      <th>3</th>\n",
              "      <th>4</th>\n",
              "    </tr>\n",
              "    <tr>\n",
              "      <th>surv_simp</th>\n",
              "      <th></th>\n",
              "      <th></th>\n",
              "      <th></th>\n",
              "      <th></th>\n",
              "    </tr>\n",
              "  </thead>\n",
              "  <tbody>\n",
              "    <tr>\n",
              "      <th>1</th>\n",
              "      <td>0</td>\n",
              "      <td>6</td>\n",
              "      <td>16</td>\n",
              "      <td>5</td>\n",
              "    </tr>\n",
              "    <tr>\n",
              "      <th>2</th>\n",
              "      <td>0</td>\n",
              "      <td>0</td>\n",
              "      <td>5</td>\n",
              "      <td>0</td>\n",
              "    </tr>\n",
              "    <tr>\n",
              "      <th>3</th>\n",
              "      <td>0</td>\n",
              "      <td>2</td>\n",
              "      <td>7</td>\n",
              "      <td>1</td>\n",
              "    </tr>\n",
              "    <tr>\n",
              "      <th>4</th>\n",
              "      <td>1</td>\n",
              "      <td>4</td>\n",
              "      <td>5</td>\n",
              "      <td>0</td>\n",
              "    </tr>\n",
              "    <tr>\n",
              "      <th>5</th>\n",
              "      <td>0</td>\n",
              "      <td>3</td>\n",
              "      <td>6</td>\n",
              "      <td>1</td>\n",
              "    </tr>\n",
              "    <tr>\n",
              "      <th>6</th>\n",
              "      <td>1</td>\n",
              "      <td>9</td>\n",
              "      <td>6</td>\n",
              "      <td>1</td>\n",
              "    </tr>\n",
              "    <tr>\n",
              "      <th>7</th>\n",
              "      <td>2</td>\n",
              "      <td>7</td>\n",
              "      <td>5</td>\n",
              "      <td>1</td>\n",
              "    </tr>\n",
              "    <tr>\n",
              "      <th>8</th>\n",
              "      <td>0</td>\n",
              "      <td>5</td>\n",
              "      <td>7</td>\n",
              "      <td>0</td>\n",
              "    </tr>\n",
              "    <tr>\n",
              "      <th>9</th>\n",
              "      <td>0</td>\n",
              "      <td>1</td>\n",
              "      <td>1</td>\n",
              "      <td>3</td>\n",
              "    </tr>\n",
              "    <tr>\n",
              "      <th>10</th>\n",
              "      <td>0</td>\n",
              "      <td>2</td>\n",
              "      <td>2</td>\n",
              "      <td>0</td>\n",
              "    </tr>\n",
              "    <tr>\n",
              "      <th>11</th>\n",
              "      <td>0</td>\n",
              "      <td>2</td>\n",
              "      <td>4</td>\n",
              "      <td>0</td>\n",
              "    </tr>\n",
              "    <tr>\n",
              "      <th>12</th>\n",
              "      <td>0</td>\n",
              "      <td>3</td>\n",
              "      <td>1</td>\n",
              "      <td>0</td>\n",
              "    </tr>\n",
              "  </tbody>\n",
              "</table>\n",
              "</div>"
            ],
            "text/plain": [
              "age_simp   1  2   3  4\n",
              "surv_simp             \n",
              "1          0  6  16  5\n",
              "2          0  0   5  0\n",
              "3          0  2   7  1\n",
              "4          1  4   5  0\n",
              "5          0  3   6  1\n",
              "6          1  9   6  1\n",
              "7          2  7   5  1\n",
              "8          0  5   7  0\n",
              "9          0  1   1  3\n",
              "10         0  2   2  0\n",
              "11         0  2   4  0\n",
              "12         0  3   1  0"
            ]
          },
          "metadata": {
            "tags": []
          },
          "execution_count": 182
        }
      ]
    },
    {
      "cell_type": "markdown",
      "metadata": {
        "id": "ZM8JckA2bgnp",
        "colab_type": "text"
      },
      "source": [
        "## Part 3 - Analysis and Interpretation\n",
        "\n",
        "Now that you've looked at the data, answer the following questions:\n",
        "\n",
        "- Interpret and explain the two t-tests you ran - what do they tell you about the relationships between the continuous features you selected and the class labels?\n",
        "- Interpret and explain the two Chi-squared tests you ran - what do they tell you about the relationships between the categorical features you selected and the class labels?\n",
        "- What was the most challenging part of this sprint challenge?\n",
        "\n",
        "Answer with text, but feel free to intersperse example code/results or refer to it from earlier."
      ]
    },
    {
      "cell_type": "markdown",
      "metadata": {
        "id": "LIozLDNG2Uhu",
        "colab_type": "text"
      },
      "source": [
        "*Your words here!*"
      ]
    },
    {
      "cell_type": "markdown",
      "metadata": {
        "id": "pvs3_-sNWQv0",
        "colab_type": "text"
      },
      "source": [
        "## Part 4 - Bayesian vs Frequentist Statistics\n",
        "\n",
        "Using a minimum of 2-3 sentences, give an explanation of Bayesian and Frequentist statistics, and then compare and contrast these two approaches to statistical inference.\n",
        "\n"
      ]
    },
    {
      "cell_type": "markdown",
      "metadata": {
        "id": "h1oK1UaDWrI-",
        "colab_type": "text"
      },
      "source": [
        "*Your words here!*"
      ]
    },
    {
      "cell_type": "markdown",
      "metadata": {
        "id": "XOequK5xpVz7",
        "colab_type": "text"
      },
      "source": [
        "# Stretch Goals: \n",
        "Do these to get a 3. These are not required in order to pass the Sprint Challenge.\n",
        "\n",
        "## Part 1: \n",
        "\n",
        "Make sure that all of your dataframe columns have the appropriate data types. *Hint:* If a column has the datatype of \"object\" even though it's made up of float or integer values, you can coerce it to act as a numeric column by using the `pd.to_numeric()` function. In order to get a 3 on this section make sure that your data exploration is particularly well commented, easy to follow, and thorough.\n",
        "\n",
        "## Part 2:\n",
        "\n",
        "Write functions that can calculate t-tests and chi^2 tests on all of the appropriate column combinations from the dataset. (Remember that certain tests require certain variable types.)\n",
        "\n",
        "## Part 3: \n",
        "\n",
        "Calculate and report confidence intervals on your most important mean estimates (choose at least two). Make some kind of a graphic or visualization to help us see visually how precise these estimates are.\n",
        "\n",
        "## Part 4:\n",
        "\n",
        "Give an extra awesome explanation of Bayesian vs Frequentist Statistics. Maybe use code or visualizations, or any other means necessary to show an above average grasp of these high level concepts."
      ]
    },
    {
      "cell_type": "code",
      "metadata": {
        "id": "NT37grnxqa05",
        "colab_type": "code",
        "colab": {}
      },
      "source": [
        "# You can work the stretch goals down here or back up in their regular sections\n",
        "# just make sure that they are labeled so that we can easily differentiate\n",
        "# your main work from the stretch goals."
      ],
      "execution_count": null,
      "outputs": []
    }
  ]
}