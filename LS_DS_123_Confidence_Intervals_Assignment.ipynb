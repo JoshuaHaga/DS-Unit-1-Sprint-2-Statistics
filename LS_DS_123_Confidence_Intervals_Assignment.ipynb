{
  "nbformat": 4,
  "nbformat_minor": 0,
  "metadata": {
    "colab": {
      "name": "Copy of LS_DS_123_Confidence_Intervals_Assignment.ipynb",
      "provenance": [],
      "collapsed_sections": [],
      "include_colab_link": true
    },
    "kernelspec": {
      "name": "python3",
      "display_name": "Python 3"
    }
  },
  "cells": [
    {
      "cell_type": "markdown",
      "metadata": {
        "id": "view-in-github",
        "colab_type": "text"
      },
      "source": [
        "<a href=\"https://colab.research.google.com/github/JoshuaHaga/DS-Unit-1-Sprint-2-Statistics/blob/master/LS_DS_123_Confidence_Intervals_Assignment.ipynb\" target=\"_parent\"><img src=\"https://colab.research.google.com/assets/colab-badge.svg\" alt=\"Open In Colab\"/></a>"
      ]
    },
    {
      "cell_type": "markdown",
      "metadata": {
        "id": "g_c3L9CeANiJ",
        "colab_type": "text"
      },
      "source": [
        "## Confidence Intervals\n",
        "\n",
        "The following url can be used to access an abbreviated version of responses to Stack Overflow's 2018 Developer Survey. The original Survey had ~100k respondents but the data is quite dirty so I have selected a cleaner subset of it for you to use for your assignment.\n",
        "\n",
        "<https://raw.githubusercontent.com/ryanleeallred/datasets/master/bootcampers.csv>\n",
        "\n",
        "The provided dataset holds 14 columns of information about individuals who make less than 500k per year and who responded that they had: \n",
        "\n",
        "\"Participated in a full-time developer training program or bootcamp\"\n",
        "\n",
        "## Part 1 - Setting the Stage\n",
        "\n",
        "**1) Load the dataset**"
      ]
    },
    {
      "cell_type": "code",
      "metadata": {
        "id": "yXwMJQGrAIbO",
        "colab_type": "code",
        "colab": {}
      },
      "source": [
        "\n",
        "from scipy.stats import ttest_ind, ttest_1samp\n",
        "import numpy as np\n",
        "import pandas as pd\n",
        "import matplotlib.pyplot as plt\n",
        "plt.style.use('seaborn-whitegrid')\n",
        "import scipy.stats as stats\n",
        "\n",
        "\n",
        "df = pd.read_csv('https://raw.githubusercontent.com/ryanleeallred/datasets/master/bootcampers.csv')"
      ],
      "execution_count": 31,
      "outputs": []
    },
    {
      "cell_type": "code",
      "metadata": {
        "id": "pYsFvm1dPygj",
        "colab_type": "code",
        "colab": {
          "base_uri": "https://localhost:8080/",
          "height": 496
        },
        "outputId": "71718524-ad1e-4a9b-f70e-abbd32654b51"
      },
      "source": [
        "df.head()"
      ],
      "execution_count": 5,
      "outputs": [
        {
          "output_type": "execute_result",
          "data": {
            "text/html": [
              "<div>\n",
              "<style scoped>\n",
              "    .dataframe tbody tr th:only-of-type {\n",
              "        vertical-align: middle;\n",
              "    }\n",
              "\n",
              "    .dataframe tbody tr th {\n",
              "        vertical-align: top;\n",
              "    }\n",
              "\n",
              "    .dataframe thead th {\n",
              "        text-align: right;\n",
              "    }\n",
              "</style>\n",
              "<table border=\"1\" class=\"dataframe\">\n",
              "  <thead>\n",
              "    <tr style=\"text-align: right;\">\n",
              "      <th></th>\n",
              "      <th>Unnamed: 0</th>\n",
              "      <th>Student</th>\n",
              "      <th>Employment</th>\n",
              "      <th>UndergradMajor</th>\n",
              "      <th>DevType</th>\n",
              "      <th>YearsCoding</th>\n",
              "      <th>YearsCodingProf</th>\n",
              "      <th>ConvertedSalary</th>\n",
              "      <th>EducationTypes</th>\n",
              "      <th>SelfTaughtTypes</th>\n",
              "      <th>TimeAfterBootcamp</th>\n",
              "      <th>LanguageWorkedWith</th>\n",
              "      <th>Gender</th>\n",
              "      <th>Age</th>\n",
              "      <th>RaceEthnicity</th>\n",
              "    </tr>\n",
              "  </thead>\n",
              "  <tbody>\n",
              "    <tr>\n",
              "      <th>0</th>\n",
              "      <td>62</td>\n",
              "      <td>No</td>\n",
              "      <td>Employed full-time</td>\n",
              "      <td>Computer science, computer engineering, or sof...</td>\n",
              "      <td>Back-end developer;Data scientist or machine l...</td>\n",
              "      <td>12-14 years</td>\n",
              "      <td>6-8 years</td>\n",
              "      <td>120000.0</td>\n",
              "      <td>Taken an online course in programming or softw...</td>\n",
              "      <td>The official documentation and/or standards fo...</td>\n",
              "      <td>I already had a full-time job as a developer w...</td>\n",
              "      <td>C;F#;Haskell;Python;Scala</td>\n",
              "      <td>Male</td>\n",
              "      <td>25 - 34 years old</td>\n",
              "      <td>White or of European descent</td>\n",
              "    </tr>\n",
              "    <tr>\n",
              "      <th>1</th>\n",
              "      <td>73</td>\n",
              "      <td>No</td>\n",
              "      <td>Employed full-time</td>\n",
              "      <td>A humanities discipline (ex. literature, histo...</td>\n",
              "      <td>Back-end developer;Full-stack developer;System...</td>\n",
              "      <td>0-2 years</td>\n",
              "      <td>0-2 years</td>\n",
              "      <td>36000.0</td>\n",
              "      <td>Participated in a full-time developer training...</td>\n",
              "      <td>The official documentation and/or standards fo...</td>\n",
              "      <td>Four to six months</td>\n",
              "      <td>Java;JavaScript;SQL;HTML;CSS;Bash/Shell</td>\n",
              "      <td>Male</td>\n",
              "      <td>25 - 34 years old</td>\n",
              "      <td>White or of European descent</td>\n",
              "    </tr>\n",
              "    <tr>\n",
              "      <th>2</th>\n",
              "      <td>127</td>\n",
              "      <td>Yes, full-time</td>\n",
              "      <td>Employed full-time</td>\n",
              "      <td>A business discipline (ex. accounting, finance...</td>\n",
              "      <td>Full-stack developer</td>\n",
              "      <td>3-5 years</td>\n",
              "      <td>3-5 years</td>\n",
              "      <td>59980.0</td>\n",
              "      <td>Taken an online course in programming or softw...</td>\n",
              "      <td>The official documentation and/or standards fo...</td>\n",
              "      <td>One to three months</td>\n",
              "      <td>C#;JavaScript;TypeScript;HTML;CSS</td>\n",
              "      <td>Male</td>\n",
              "      <td>25 - 34 years old</td>\n",
              "      <td>East Asian</td>\n",
              "    </tr>\n",
              "    <tr>\n",
              "      <th>3</th>\n",
              "      <td>140</td>\n",
              "      <td>No</td>\n",
              "      <td>Employed full-time</td>\n",
              "      <td>A social science (ex. anthropology, psychology...</td>\n",
              "      <td>Data scientist or machine learning specialist;...</td>\n",
              "      <td>9-11 years</td>\n",
              "      <td>3-5 years</td>\n",
              "      <td>70000.0</td>\n",
              "      <td>Taken an online course in programming or softw...</td>\n",
              "      <td>Questions &amp; answers on Stack Overflow;Tapping ...</td>\n",
              "      <td>I haven’t gotten a developer job</td>\n",
              "      <td>JavaScript;Python;SQL;VBA</td>\n",
              "      <td>Male</td>\n",
              "      <td>25 - 34 years old</td>\n",
              "      <td>White or of European descent</td>\n",
              "    </tr>\n",
              "    <tr>\n",
              "      <th>4</th>\n",
              "      <td>153</td>\n",
              "      <td>No</td>\n",
              "      <td>Employed full-time</td>\n",
              "      <td>Computer science, computer engineering, or sof...</td>\n",
              "      <td>Mobile developer</td>\n",
              "      <td>6-8 years</td>\n",
              "      <td>3-5 years</td>\n",
              "      <td>105000.0</td>\n",
              "      <td>Taken an online course in programming or softw...</td>\n",
              "      <td>The official documentation and/or standards fo...</td>\n",
              "      <td>One to three months</td>\n",
              "      <td>C;Java;JavaScript;Objective-C;PHP;Python;Ruby;...</td>\n",
              "      <td>Male</td>\n",
              "      <td>25 - 34 years old</td>\n",
              "      <td>White or of European descent</td>\n",
              "    </tr>\n",
              "  </tbody>\n",
              "</table>\n",
              "</div>"
            ],
            "text/plain": [
              "   Unnamed: 0         Student  ...                Age                 RaceEthnicity\n",
              "0          62              No  ...  25 - 34 years old  White or of European descent\n",
              "1          73              No  ...  25 - 34 years old  White or of European descent\n",
              "2         127  Yes, full-time  ...  25 - 34 years old                    East Asian\n",
              "3         140              No  ...  25 - 34 years old  White or of European descent\n",
              "4         153              No  ...  25 - 34 years old  White or of European descent\n",
              "\n",
              "[5 rows x 15 columns]"
            ]
          },
          "metadata": {
            "tags": []
          },
          "execution_count": 5
        }
      ]
    },
    {
      "cell_type": "markdown",
      "metadata": {
        "id": "wOQ-9E8uYcni",
        "colab_type": "text"
      },
      "source": [
        "**2) Select two random samples from this dataset, one with a sample size of 20 and the other with a sample size of 200. (Use a `random_state` of `42` when selecting the samples)**"
      ]
    },
    {
      "cell_type": "code",
      "metadata": {
        "id": "m1vuFGxVQo64",
        "colab_type": "code",
        "colab": {}
      },
      "source": [
        "samp_20 = df.sample(20, random_state=42 )\n",
        "samp_200 = df.sample(200, random_state=42 )"
      ],
      "execution_count": 16,
      "outputs": []
    },
    {
      "cell_type": "markdown",
      "metadata": {
        "id": "y2Rz-8O-YmF9",
        "colab_type": "text"
      },
      "source": [
        "**3) Calculate and report the sample means of the `ConvertedSalary` column for both of the samples.**"
      ]
    },
    {
      "cell_type": "code",
      "metadata": {
        "id": "ti9x37XSQ_yL",
        "colab_type": "code",
        "colab": {
          "base_uri": "https://localhost:8080/",
          "height": 68
        },
        "outputId": "ffe6f2fe-4da5-4be2-d1ff-41a1ea78ca98"
      },
      "source": [
        "samp_20_m = samp_20['ConvertedSalary'].mean()\n",
        "samp_200_m = samp_200['ConvertedSalary'].mean()\n",
        "\n",
        "print(samp_20_m)\n",
        "print(samp_200_m)\n",
        "print(df['ConvertedSalary'].mean())"
      ],
      "execution_count": 17,
      "outputs": [
        {
          "output_type": "stream",
          "text": [
            "55752.2\n",
            "68551.255\n",
            "73453.40420137631\n"
          ],
          "name": "stdout"
        }
      ]
    },
    {
      "cell_type": "markdown",
      "metadata": {
        "id": "AtGASqgxYp5t",
        "colab_type": "text"
      },
      "source": [
        "**4) Both of these sample means are estimates of an underlying population value. Which sample mean do you trust more? Why? Would a non-technical audience have any idea about which of these values is more trustworthy?**"
      ]
    },
    {
      "cell_type": "markdown",
      "metadata": {
        "id": "8oD8lp84YyvU",
        "colab_type": "text"
      },
      "source": [
        "I would trust the result of the 200 samples. When looking at them, we see that there is a 13000 difference between the sample of 20 and 200. I will always trust the mean with the most samples included. "
      ]
    },
    {
      "cell_type": "markdown",
      "metadata": {
        "id": "-2ulIAGmYudp",
        "colab_type": "text"
      },
      "source": [
        "**5) Does just the point estimate (individual value of the sample mean) indicate to you anything about how much sampling error there could be with these estimates?**"
      ]
    },
    {
      "cell_type": "markdown",
      "metadata": {
        "id": "hD5HloatYxoh",
        "colab_type": "text"
      },
      "source": [
        "The single value does not give much information about the sampling error of the estimate.\n",
        "\n"
      ]
    },
    {
      "cell_type": "markdown",
      "metadata": {
        "id": "SpqgKQfTYvF0",
        "colab_type": "text"
      },
      "source": [
        "**6) What strategies could we use when reporting these numbers to not only report our estimates but also to give non-technical readers an idea about how far off our estimates might be due to sampling error?**\n",
        "\n"
      ]
    },
    {
      "cell_type": "markdown",
      "metadata": {
        "id": "h7N1WnTTYyD7",
        "colab_type": "text"
      },
      "source": [
        ""
      ]
    },
    {
      "cell_type": "markdown",
      "metadata": {
        "id": "9tIHBlM_SyGR",
        "colab_type": "text"
      },
      "source": [
        "## Part 2 - Reporting CIs / MOEs along with our point estimates for more context.\n",
        "\n",
        "**1) Calculate and report a 95% confidence interval around both of the sample means from part 1.**\n",
        "\n"
      ]
    },
    {
      "cell_type": "code",
      "metadata": {
        "id": "hfCO0gHEUOrE",
        "colab_type": "code",
        "colab": {}
      },
      "source": [
        "def conf_i(data, conf=.95):\n",
        "\n",
        "  D = np.array(data)\n",
        "  mean = np.mean(D)\n",
        "  n = len(D)\n",
        "  std_err = np.std(D, ddof=1)/np.sqrt(n)\n",
        "  margin_of_err = std_err * stats.t.ppf((1+conf)/2, n-1)\n",
        "\n",
        "  return(mean, margin_of_err, mean-margin_of_err, mean+margin_of_err)"
      ],
      "execution_count": 18,
      "outputs": []
    },
    {
      "cell_type": "code",
      "metadata": {
        "id": "r5OqA6GYUbUZ",
        "colab_type": "code",
        "colab": {
          "base_uri": "https://localhost:8080/",
          "height": 51
        },
        "outputId": "f4210c96-f268-4d93-8765-db8f6216ff52"
      },
      "source": [
        "b_margin = conf_i(samp_20['ConvertedSalary'])[2]\n",
        "t_margin = conf_i(samp_20['ConvertedSalary'])[3]\n",
        "print(b_margin)\n",
        "t_margin"
      ],
      "execution_count": 21,
      "outputs": [
        {
          "output_type": "stream",
          "text": [
            "35805.10309625536\n"
          ],
          "name": "stdout"
        },
        {
          "output_type": "execute_result",
          "data": {
            "text/plain": [
              "75699.29690374463"
            ]
          },
          "metadata": {
            "tags": []
          },
          "execution_count": 21
        }
      ]
    },
    {
      "cell_type": "code",
      "metadata": {
        "id": "TRtFJ13i0ZWe",
        "colab_type": "code",
        "colab": {
          "base_uri": "https://localhost:8080/",
          "height": 34
        },
        "outputId": "f9de53e9-7a58-4184-c8bb-f195eda89aec"
      },
      "source": [
        "Conf_int_w_20 = t_margin - b_margin\n",
        "Conf_int_w_20"
      ],
      "execution_count": 24,
      "outputs": [
        {
          "output_type": "execute_result",
          "data": {
            "text/plain": [
              "39894.19380748927"
            ]
          },
          "metadata": {
            "tags": []
          },
          "execution_count": 24
        }
      ]
    },
    {
      "cell_type": "code",
      "metadata": {
        "id": "kvtuhUzzUlqH",
        "colab_type": "code",
        "colab": {
          "base_uri": "https://localhost:8080/",
          "height": 51
        },
        "outputId": "445e671c-f9e6-4d11-9c22-665a71fa94b5"
      },
      "source": [
        "b_margin_200 = conf_i(samp_200['ConvertedSalary'])[2]\n",
        "t_margin_200 = conf_i(samp_200['ConvertedSalary'])[3]\n",
        "print(b_margin_200)\n",
        "t_margin_200"
      ],
      "execution_count": 26,
      "outputs": [
        {
          "output_type": "stream",
          "text": [
            "60593.058804479086\n"
          ],
          "name": "stdout"
        },
        {
          "output_type": "execute_result",
          "data": {
            "text/plain": [
              "76509.45119552092"
            ]
          },
          "metadata": {
            "tags": []
          },
          "execution_count": 26
        }
      ]
    },
    {
      "cell_type": "code",
      "metadata": {
        "id": "iaJikSRj1GmJ",
        "colab_type": "code",
        "colab": {
          "base_uri": "https://localhost:8080/",
          "height": 34
        },
        "outputId": "b1219879-da19-488a-ec71-14586d816a49"
      },
      "source": [
        "Conf_int_w_200 = t_margin_200 - b_margin_200\n",
        "Conf_int_w_200"
      ],
      "execution_count": 27,
      "outputs": [
        {
          "output_type": "execute_result",
          "data": {
            "text/plain": [
              "15916.39239104183"
            ]
          },
          "metadata": {
            "tags": []
          },
          "execution_count": 27
        }
      ]
    },
    {
      "cell_type": "markdown",
      "metadata": {
        "id": "vdiW7DHRZwK-",
        "colab_type": "text"
      },
      "source": [
        "**2) Which confidence interval is wider and why?**"
      ]
    },
    {
      "cell_type": "markdown",
      "metadata": {
        "id": "p5KGlyvYZ1Qq",
        "colab_type": "text"
      },
      "source": [
        "The confidence interval of the first sample is much wider. Due to its lower sample size the standard error of our estimate is much larger causing the potential distribution of sample means to be much more spread out. A confidence interval catches 95% of this theoretical distriution of sample means so if our standard error is larger, our confidence interval will be wider as well."
      ]
    },
    {
      "cell_type": "markdown",
      "metadata": {
        "id": "6N33K4NvZ13H",
        "colab_type": "text"
      },
      "source": [
        "**3) Report the mean and the margin of error for both of the sample means. What does the Margin of Error Represent?**"
      ]
    },
    {
      "cell_type": "code",
      "metadata": {
        "id": "MfMIBftMU_rz",
        "colab_type": "code",
        "colab": {
          "base_uri": "https://localhost:8080/",
          "height": 51
        },
        "outputId": "a2ebaf73-00e5-443e-966f-a124e8a292cd"
      },
      "source": [
        "print(conf_i(samp_20['ConvertedSalary'])[0])\n",
        "conf_i(samp_20['ConvertedSalary'])[1]\n"
      ],
      "execution_count": 43,
      "outputs": [
        {
          "output_type": "stream",
          "text": [
            "55752.2\n"
          ],
          "name": "stdout"
        },
        {
          "output_type": "execute_result",
          "data": {
            "text/plain": [
              "19947.096903744638"
            ]
          },
          "metadata": {
            "tags": []
          },
          "execution_count": 43
        }
      ]
    },
    {
      "cell_type": "code",
      "metadata": {
        "id": "DOJ41W1tVWa6",
        "colab_type": "code",
        "colab": {
          "base_uri": "https://localhost:8080/",
          "height": 51
        },
        "outputId": "d7b6f2fc-4d5b-4534-e393-40441ed583a8"
      },
      "source": [
        "print(conf_i(samp_200['ConvertedSalary'])[0])\n",
        "conf_i(samp_200['ConvertedSalary'])[1]"
      ],
      "execution_count": 42,
      "outputs": [
        {
          "output_type": "stream",
          "text": [
            "68551.255\n"
          ],
          "name": "stdout"
        },
        {
          "output_type": "execute_result",
          "data": {
            "text/plain": [
              "7958.196195520917"
            ]
          },
          "metadata": {
            "tags": []
          },
          "execution_count": 42
        }
      ]
    },
    {
      "cell_type": "code",
      "metadata": {
        "id": "ZBwKpvwNLj6O",
        "colab_type": "code",
        "colab": {
          "base_uri": "https://localhost:8080/",
          "height": 34
        },
        "outputId": "5be1244e-e395-4114-81fa-ccd91779f085"
      },
      "source": [
        "s_20 = conf_i(samp_20['ConvertedSalary'])\n",
        "s_200 = conf_i(samp_200['ConvertedSalary'])\n",
        "s_200"
      ],
      "execution_count": 46,
      "outputs": [
        {
          "output_type": "execute_result",
          "data": {
            "text/plain": [
              "(68551.255, 7958.196195520917, 60593.058804479086, 76509.45119552092)"
            ]
          },
          "metadata": {
            "tags": []
          },
          "execution_count": 46
        }
      ]
    },
    {
      "cell_type": "markdown",
      "metadata": {
        "id": "_7NuYtHfaQav",
        "colab_type": "text"
      },
      "source": [
        "The margin of error gives an idea of how far off our estimates might be (with 95% confidence). We're trying to supply a plausible range for our parameter of interest (the true average salary of bootcamp grads)."
      ]
    },
    {
      "cell_type": "markdown",
      "metadata": {
        "id": "zkg9EW9KTgGv",
        "colab_type": "text"
      },
      "source": [
        "## Part 3 - Communicate the Precision of Sample Estimates Graphically\n",
        "\n",
        "**1) Create a plot using `plt.errorbar` that compares both of the confidence intervals.** "
      ]
    },
    {
      "cell_type": "code",
      "metadata": {
        "id": "2QOQGVfsVfFZ",
        "colab_type": "code",
        "colab": {
          "base_uri": "https://localhost:8080/",
          "height": 262
        },
        "outputId": "40da9b4a-c845-431e-91a2-55986eb5559a"
      },
      "source": [
        "fig, ax = plt.subplots()\n",
        "plt.errorbar(0, s_20[0] , yerr=s_20[1], fmt='o')\n",
        "plt.errorbar(1, s_200[0], yerr=s_200[1], fmt='o')\n",
        "fig.set_facecolor('white')\n",
        "ax.set_facecolor('white')\n",
        "plt.show()\n",
        "\n"
      ],
      "execution_count": 48,
      "outputs": [
        {
          "output_type": "display_data",
          "data": {
            "image/png": "[encoded data removed]",
            "text/plain": [
              "<Figure size 432x288 with 1 Axes>"
            ]
          },
          "metadata": {
            "tags": []
          }
        }
      ]
    },
    {
      "cell_type": "markdown",
      "metadata": {
        "id": "HsTtONTNawFi",
        "colab_type": "text"
      },
      "source": [
        "**2) Create a plot using `plt.bar` that compares both of the confidence intervals.**"
      ]
    },
    {
      "cell_type": "code",
      "metadata": {
        "id": "UE1fxaoKW1Xg",
        "colab_type": "code",
        "colab": {
          "base_uri": "https://localhost:8080/",
          "height": 265
        },
        "outputId": "486e0948-7575-4ab7-b0f1-ad6292a6d789"
      },
      "source": [
        "fig, ax = plt.subplots()\n",
        "plt.bar(0, height=s_20[0], yerr=s_20[1])\n",
        "plt.bar(1, height=s_200[0], yerr=s_200[1])\n",
        "fig.set_facecolor('white')\n",
        "ax.set_facecolor('white')\n",
        "plt.show()"
      ],
      "execution_count": 49,
      "outputs": [
        {
          "output_type": "display_data",
          "data": {
            "image/png": "[encoded data removed]",
            "text/plain": [
              "<Figure size 432x288 with 1 Axes>"
            ]
          },
          "metadata": {
            "tags": []
          }
        }
      ]
    },
    {
      "cell_type": "markdown",
      "metadata": {
        "id": "ZGCzS-BFctob",
        "colab_type": "text"
      },
      "source": [
        "## Part 4 - Check for Understanding\n",
        "\n",
        "\n",
        "\n",
        "\n",
        "\n"
      ]
    },
    {
      "cell_type": "markdown",
      "metadata": {
        "id": "E181afPXezJ9",
        "colab_type": "text"
      },
      "source": [
        "**Calculate a Confidence Interval using the entire dataset. How precise do our estimates get?**"
      ]
    },
    {
      "cell_type": "code",
      "metadata": {
        "id": "3puy99D6esLn",
        "colab_type": "code",
        "colab": {
          "base_uri": "https://localhost:8080/",
          "height": 265
        },
        "outputId": "054936db-2236-4da6-b553-775cdd4718c2"
      },
      "source": [
        "s_all = conf_i(df['ConvertedSalary'])\n",
        "fig, ax = plt.subplots()\n",
        "plt.bar('20 Sample', height=s_20[0], yerr=s_20[1])\n",
        "plt.bar('200 Sample', height=s_200[0], yerr=s_200[1])\n",
        "plt.bar('Entire Dataset', height=s_all[0], yerr=s_all[1])\n",
        "fig.set_facecolor('white')\n",
        "ax.set_facecolor('white')\n",
        "plt.show()\n",
        "\n",
        "#We see that the more samples we take, the lower the margin of error is. "
      ],
      "execution_count": 54,
      "outputs": [
        {
          "output_type": "display_data",
          "data": {
            "image/png": "[encoded data removed]",
            "text/plain": [
              "<Figure size 432x288 with 1 Axes>"
            ]
          },
          "metadata": {
            "tags": []
          }
        }
      ]
    },
    {
      "cell_type": "markdown",
      "metadata": {
        "id": "wbA0inEKexdW",
        "colab_type": "text"
      },
      "source": [
        "**What does \"precision\" mean in the context of statistical estimates and how is that different from \"accuracy?\"**"
      ]
    },
    {
      "cell_type": "markdown",
      "metadata": {
        "id": "Btl5phUUd6L4",
        "colab_type": "text"
      },
      "source": [
        "Precision in statistics refers to how closely the values are grouped together. Accuracy in statistics refers to how close the values are to the true value.\n",
        "\n"
      ]
    },
    {
      "cell_type": "markdown",
      "metadata": {
        "id": "4F-4ux7sd5pL",
        "colab_type": "text"
      },
      "source": [
        "**It is very common to misunderstand what is captured by a 95% confidence interval. What is the correct interpretation? ([Hint](https://www.statisticssolutions.com/misconceptions-about-confidence-intervals/))**"
      ]
    },
    {
      "cell_type": "markdown",
      "metadata": {
        "id": "bSU07naHd6li",
        "colab_type": "text"
      },
      "source": [
        ""
      ]
    },
    {
      "cell_type": "markdown",
      "metadata": {
        "id": "cvtnsGLJa4bW",
        "colab_type": "text"
      },
      "source": [
        "# Stretch Goals:\n",
        "\n",
        "1) Study the relationship between t-tests and confidence intervals.\n",
        " - Find a sample mean that we have worked with and construct a 95% confidence interval around it. (find the lower and upper bounds)\n",
        " - Run a 1-sample t-test with the null hypothesis value being just barely **outside** of the confidence interval. What is the p-value?\n",
        " - Run a 1-sample t-test with the null hypothesis value being just barely **inside** of the confidence interval. What is the p-value?\n",
        "\n",
        "  What does it mean when we say that the boundaries of the confidence interval are the boundaries of statistical significance in a 1-sample t-test?\n",
        "\n",
        "\n",
        "2) Go back to our [congressional voting dataset](https://archive.ics.uci.edu/ml/datasets/Congressional+Voting+Records) and build confidence intervals around the means of all of the issues for a single party. Compare all of those confidence intervals graphically on a single graph. \n",
        "\n",
        "3) Dive deeper into the [2018 Stack Overflow Survey](https://www.kaggle.com/stackoverflow/stack-overflow-2018-developer-survey) results to see what cool things you can find."
      ]
    }
  ]
}